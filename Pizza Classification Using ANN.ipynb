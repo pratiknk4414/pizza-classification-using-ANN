{
 "cells": [
  {
   "cell_type": "markdown",
   "id": "941afb50",
   "metadata": {},
   "source": [
    "# Pratik Kadam"
   ]
  },
  {
   "cell_type": "markdown",
   "id": "f8cb8df9",
   "metadata": {},
   "source": [
    "#### Problem Statement: \n",
    "A famous 30 year old pizza brand which has outlets in more than 90 countries started home\n",
    "delivery services a couple of years ago and the business has grown much faster than expected.\n",
    "However, outlet vendors are very much disappointed with few customers for their cheating\n",
    "activities. This is because vendors, shockingly, came to know that few customers after receiving the\n",
    "delivery are raising tickets for refund in the name of burnt pizzas. Even though customers received\n",
    "a good pizza but still few customers are trying to cheat vendors. To overcome this issue, Franchise\n",
    "has come up with an idea to integrate a pizza detection model in their application where customers\n",
    "can upload images for the burnt pizzas delivered. For example, if I have received a burnt pizza then\n",
    "I can upload a couple of images of the pizza to the application and it will classify the pizza as burnt\n",
    "or good in order to process my refund ticket."
   ]
  },
  {
   "cell_type": "markdown",
   "id": "4b35be8c",
   "metadata": {},
   "source": [
    "#### Goal:\n",
    "To build a model where it accepts the images of pizza and detects as burnt pizza or good pizza."
   ]
  },
  {
   "cell_type": "markdown",
   "id": "1e967ae5",
   "metadata": {},
   "source": [
    "### Importing libraries"
   ]
  },
  {
   "cell_type": "code",
   "execution_count": null,
   "id": "60ecbac5",
   "metadata": {},
   "outputs": [],
   "source": [
    "import os\n",
    "import numpy as np\n",
    "import tensorflow as tf\n",
    "from tensorflow import keras\n",
    "from sklearn.metrics import accuracy_score\n",
    "import matplotlib.pyplot as plt\n",
    "from matplotlib.image import imread"
   ]
  },
  {
   "cell_type": "markdown",
   "id": "cd6f1315",
   "metadata": {},
   "source": [
    "### Data importing"
   ]
  },
  {
   "cell_type": "code",
   "execution_count": null,
   "id": "d7fedf94",
   "metadata": {},
   "outputs": [],
   "source": [
    "# Define the paths to the training data\n",
    "train_dir = r\"D:\\PGA WE DL EXAM\\PGA Wkend DL Exam\\Datasets\\ANN\\Pizza Refund\\train\"\n",
    "\n",
    "burnt_pizza_dir = os.path.join(train_dir, 'Burnt_pizza')\n",
    "good_pizza_dir = os.path.join(train_dir, 'Good_pizza')"
   ]
  },
  {
   "cell_type": "markdown",
   "id": "9fa2be08",
   "metadata": {},
   "source": [
    "### Load and preprocess the images"
   ]
  },
  {
   "cell_type": "code",
   "execution_count": null,
   "id": "86befb95",
   "metadata": {},
   "outputs": [],
   "source": [
    "def load_images_from_directory(directory, label):\n",
    "    images_path = []\n",
    "    labels = []\n",
    "    for filename in os.listdir(directory):\n",
    "        if filename.endswith((\".jpg\", \".png\", \".jpeg\",'.gif')):\n",
    "            img = keras.preprocessing.image.load_img(os.path.join(directory, filename), target_size=(64, 64))\n",
    "            img = keras.preprocessing.image.img_to_array(img)\n",
    "            images_path.append(img)\n",
    "            labels.append(label)\n",
    "    return images_path, labels\n",
    "\n",
    "burnt_pizza_images, burnt_pizza_labels = load_images_from_directory(burnt_pizza_dir, 0)\n",
    "good_pizza_images, good_pizza_labels = load_images_from_directory(good_pizza_dir, 1)"
   ]
  },
  {
   "cell_type": "code",
   "execution_count": null,
   "id": "ffd479d3",
   "metadata": {},
   "outputs": [],
   "source": [
    "# Combine burnt and good pizza data\n",
    "X_train = np.array(burnt_pizza_images + good_pizza_images)\n",
    "y_train = np.array(burnt_pizza_labels + good_pizza_labels)\n",
    "\n",
    "# Flatten the images\n",
    "X_train = X_train.reshape(X_train.shape[0], -1)\n",
    "\n",
    "# Normalize the pixel values to a common scale (0-1)\n",
    "X_train = X_train / 255.0\n"
   ]
  },
  {
   "cell_type": "markdown",
   "id": "55e110c0",
   "metadata": {},
   "source": [
    "### Model"
   ]
  },
  {
   "cell_type": "code",
   "execution_count": null,
   "id": "7e80a5fe",
   "metadata": {},
   "outputs": [],
   "source": [
    "model = keras.Sequential([\n",
    "    # Input layer\n",
    "    keras.layers.Input(shape=(64*64*3,)),\n",
    "    \n",
    "    # Hidden layers\n",
    "    keras.layers.Dense(128, activation='relu'),\n",
    "    keras.layers.Dense(64, activation='relu'),\n",
    "    \n",
    "    # Output layer\n",
    "    keras.layers.Dense(1, activation='sigmoid')\n",
    "])\n"
   ]
  },
  {
   "cell_type": "markdown",
   "id": "d38e48f4",
   "metadata": {},
   "source": [
    "### Compile the Model"
   ]
  },
  {
   "cell_type": "code",
   "execution_count": null,
   "id": "518881d7",
   "metadata": {},
   "outputs": [],
   "source": [
    "model.compile(optimizer='adam', loss='binary_crossentropy', metrics=['accuracy'])"
   ]
  },
  {
   "cell_type": "markdown",
   "id": "84c02780",
   "metadata": {},
   "source": [
    "### Training"
   ]
  },
  {
   "cell_type": "code",
   "execution_count": null,
   "id": "a5ad3514",
   "metadata": {
    "scrolled": false
   },
   "outputs": [],
   "source": [
    "model.fit(X_train, y_train, epochs=10, batch_size=32)"
   ]
  },
  {
   "cell_type": "markdown",
   "id": "2e3511ad",
   "metadata": {},
   "source": [
    "### Model Evaluation"
   ]
  },
  {
   "cell_type": "code",
   "execution_count": null,
   "id": "ed4bbaa6",
   "metadata": {},
   "outputs": [],
   "source": [
    "# Calculate and print train accuracy\n",
    "train_predictions = model.predict(X_train)\n",
    "train_labels = (train_predictions > 0.5).astype(int)\n",
    "train_accuracy = accuracy_score(y_train, train_labels)\n",
    "print(f\"Train Accuracy: {train_accuracy}\")\n"
   ]
  },
  {
   "cell_type": "markdown",
   "id": "331c03d9",
   "metadata": {},
   "source": [
    "### Test Data Loading"
   ]
  },
  {
   "cell_type": "code",
   "execution_count": null,
   "id": "1d1ae5af",
   "metadata": {},
   "outputs": [],
   "source": [
    "# Define the path to the directory containing test images\n",
    "test_dir = r\"D:\\PGA WE DL EXAM\\PGA Wkend DL Exam\\Datasets\\ANN\\Pizza Refund\\test\""
   ]
  },
  {
   "cell_type": "code",
   "execution_count": null,
   "id": "a87d299e",
   "metadata": {},
   "outputs": [],
   "source": [
    "# Load and preprocess the test images\n",
    "def load_test_images_from_directory(directory):\n",
    "    test_images = []\n",
    "    test_file_names = []\n",
    "    \n",
    "    for filename in os.listdir(directory):\n",
    "        if filename.endswith((\".jpg\", \".png\", \".jpeg\",'.gif')):\n",
    "            img = keras.preprocessing.image.load_img(os.path.join(directory, filename), target_size=(64, 64))\n",
    "            img = keras.preprocessing.image.img_to_array(img)\n",
    "            test_images.append(img)\n",
    "            test_file_names.append(filename)\n",
    "    return test_images, test_file_names\n",
    "\n",
    "test_images, test_file_names = load_test_images_from_directory(test_dir)"
   ]
  },
  {
   "cell_type": "code",
   "execution_count": null,
   "id": "f3ecbf6a",
   "metadata": {},
   "outputs": [],
   "source": [
    "# Convert the test images to a numpy array and flatten\n",
    "X_test_new = np.array(test_images)\n",
    "X_test_new = X_test_new.reshape(X_test_new.shape[0], -1)\n",
    "X_test_new = X_test_new / 255.0  # Normalize the pixel values"
   ]
  },
  {
   "cell_type": "markdown",
   "id": "0c260241",
   "metadata": {},
   "source": [
    "## Predictions"
   ]
  },
  {
   "cell_type": "code",
   "execution_count": null,
   "id": "604acd76",
   "metadata": {},
   "outputs": [],
   "source": [
    "predictions = model.predict(X_test_new)"
   ]
  },
  {
   "cell_type": "code",
   "execution_count": null,
   "id": "ae29096b",
   "metadata": {},
   "outputs": [],
   "source": [
    "# Convert predictions to binary labels (0 for burnt, 1 for good)\n",
    "predicted_labels = (predictions > 0.5).astype(int)"
   ]
  },
  {
   "cell_type": "code",
   "execution_count": null,
   "id": "87aae25e",
   "metadata": {
    "scrolled": false
   },
   "outputs": [],
   "source": [
    "# Print the predicted labels for the test images and display the images\n",
    "\n",
    "for i, label in enumerate(predicted_labels):\n",
    "    image = imread(os.path.join(test_dir, test_file_names[i]))\n",
    "    plt.figure()\n",
    "    plt.imshow(image)\n",
    "    plt.title(f\"{test_file_names[i]} is {'Burnt' if label == 0 else 'Good'} pizza.\")\n",
    "    plt.axis('off')\n",
    "    plt.show()"
   ]
  },
  {
   "cell_type": "markdown",
   "id": "a1fb46f9",
   "metadata": {},
   "source": [
    "# END"
   ]
  }
 ],
 "metadata": {
  "kernelspec": {
   "display_name": "Python 3 (ipykernel)",
   "language": "python",
   "name": "python3"
  },
  "language_info": {
   "codemirror_mode": {
    "name": "ipython",
    "version": 3
   },
   "file_extension": ".py",
   "mimetype": "text/x-python",
   "name": "python",
   "nbconvert_exporter": "python",
   "pygments_lexer": "ipython3",
   "version": "3.11.4"
  }
 },
 "nbformat": 4,
 "nbformat_minor": 5
}
